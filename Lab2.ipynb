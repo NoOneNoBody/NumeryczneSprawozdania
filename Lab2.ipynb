{
 "cells": [
  {
   "cell_type": "markdown",
   "metadata": {},
   "source": [
    "**Zadanie 1**"
   ]
  },
  {
   "cell_type": "code",
   "execution_count": 15,
   "metadata": {},
   "outputs": [
    {
     "name": "stdout",
     "output_type": "stream",
     "text": [
      "1.\n",
      "Błąd względny pi: 0.0004024994347707008\n",
      "Błąd bezwzględny pi: 0.0012644892673496777 \n",
      "\n",
      "2.\n",
      "Błąd względny e: 0.00010367889601972718\n",
      "Błąd bezwzględny e: 0.0002818284590451192 \n",
      "\n",
      "3.\n",
      "Błąd względny 10^pi: 0.008332470227394952\n",
      "Błąd bezwzględny 10^pi: 11.544268632989315 \n",
      "\n",
      "4.\n",
      "Błąd względny 9!: 0.009212762230080598\n",
      "Błąd bezwzględny 9!: 3343.1271580516477\n"
     ]
    }
   ],
   "source": [
    "#Zadanie 1.\n",
    "import math\n",
    "\n",
    "def blad_wzgledny(a,b):\n",
    "    return (abs(a-b)/a)\n",
    "\n",
    "def blad_bezwzgledny(a,b):\n",
    "    return abs(a-b)\n",
    "\n",
    "print(\"1.\")\n",
    "print(\"Błąd względny pi:\",blad_wzgledny(math.pi, (22/7)))\n",
    "print(\"Błąd bezwzględny pi:\",blad_bezwzgledny(math.pi, (22/7)), \"\\n\")\n",
    "\n",
    "print(\"2.\")\n",
    "print(\"Błąd względny e:\",blad_wzgledny(math.e, 2.718))\n",
    "print(\"Błąd bezwzględny e:\",blad_bezwzgledny(math.e, 2.718), \"\\n\")\n",
    "\n",
    "print(\"3.\")\n",
    "print(\"Błąd względny 10^pi:\",blad_wzgledny(10**math.pi, 1397))\n",
    "print(\"Błąd bezwzględny 10^pi:\",blad_bezwzgledny(10**math.pi, 1397), \"\\n\")\n",
    "\n",
    "print(\"4.\")\n",
    "print(\"Błąd względny 9!:\",blad_wzgledny(math.factorial(9), math.sqrt(18*math.pi)*((9/math.e)**9)))\n",
    "print(\"Błąd bezwzględny 9!:\",blad_bezwzgledny(math.factorial(9), math.sqrt(18*math.pi)*((9/math.e)**9)))"
   ]
  },
  {
   "cell_type": "markdown",
   "metadata": {},
   "source": [
    "**Zadanie 2.1**\n",
    "\n",
    "$G(p)=\\cfrac{1}{p}\\left[10^{p}\\left(1+p\\pi \\cdot 10^{-p}\\right)-10^{p}\\right]$\n",
    "\n",
    "$\\cfrac{1}{p}[10^{p}+p\\pi-10^{p}]$\n",
    "\n",
    "$\\cfrac{1}{p}[p\\pi]$\n",
    "\n",
    "$\\pi$\n",
    "\n",
    "Wartość G(p) obliczona w sposób analityczny nie zależy od p\n",
    "\n",
    "**Zadanie 2.2**"
   ]
  },
  {
   "cell_type": "code",
   "execution_count": 8,
   "metadata": {},
   "outputs": [
    {
     "data": {
      "image/png": "[encoded data removed]",
      "text/plain": [
       "<matplotlib.figure.Figure at 0x7fc744b31ac8>"
      ]
     },
     "metadata": {},
     "output_type": "display_data"
    },
    {
     "data": {
      "image/png": "[encoded data removed]",
      "text/plain": [
       "<matplotlib.figure.Figure at 0x7fc744b91be0>"
      ]
     },
     "metadata": {},
     "output_type": "display_data"
    }
   ],
   "source": [
    "#Zadanie 2.2\n",
    "import math\n",
    "import numpy as np\n",
    "import matplotlib.pyplot as plt\n",
    "\n",
    "pi = round(math.pi,15)\n",
    "\n",
    "def ciag(n):\n",
    "    vec = []\n",
    "    for i in range(1,n+1):\n",
    "        vec.append( (1/i) * ( (10**i) * (1+i*pi*(10**(-i))) - (10**i) ) )\n",
    "    return vec\n",
    "\n",
    "def blad_wzgledny(a,b):\n",
    "    vec = []\n",
    "    for i in range(len(b)):\n",
    "        vec.append(abs(a-b[i])/a)\n",
    "    return vec\n",
    "\n",
    "def blad_bezwzgledny(a,b):\n",
    "    vec = []\n",
    "    for i in range(len(b)):\n",
    "        vec.append(abs(a-b[i]))\n",
    "    return vec\n",
    "\n",
    "n = 10\n",
    "x = np.arange(1,n+1,1)\n",
    "y = blad_wzgledny(pi,ciag(n))\n",
    "plt.plot(x,y)\n",
    "plt.show()\n",
    "plt.semilogy(x,y)\n",
    "plt.show()"
   ]
  },
  {
   "cell_type": "markdown",
   "metadata": {},
   "source": [
    "**Zadanie 2.3**\n",
    "\n",
    "Błąd wraz ze wzrastającym n również wzrasta wykładniczo\n",
    "\n",
    "**Zadanie 2.4**\n",
    "\n",
    "Błąd zaokrąglenia\n",
    "\n",
    "**Zadanie 3.1**"
   ]
  },
  {
   "cell_type": "code",
   "execution_count": 1,
   "metadata": {},
   "outputs": [
    {
     "name": "stdout",
     "output_type": "stream",
     "text": [
      "1.\n",
      "Błąd względny: 0.003659846827343768\n",
      "Błąd bezwzględny: 0.009948495125712054 \n",
      "\n",
      "2.\n",
      "Błąd względny: 0.003659846827343768\n",
      "Błąd bezwzględny: 3.0288585284310443e-07 \n",
      "\n"
     ]
    }
   ],
   "source": [
    "#Zadanie 3.1\n",
    "import math\n",
    "\n",
    "def blad_wzgledny(a,b):\n",
    "    return (abs(a-b)/a)\n",
    "\n",
    "def blad_bezwzgledny(a,b):\n",
    "    return abs(a-b)\n",
    "\n",
    "def calc_e(n):\n",
    "    sum = 0\n",
    "    for i in range(n):\n",
    "        sum = sum + (1/math.factorial(i))\n",
    "    return sum\n",
    "\n",
    "\n",
    "print(\"1.\")\n",
    "print(\"Błąd względny:\", blad_wzgledny(math.e, calc_e(5)))\n",
    "print(\"Błąd bezwzględny:\", blad_bezwzgledny(math.e, calc_e(5)), \"\\n\")\n",
    "\n",
    "print(\"2.\")\n",
    "print(\"Błąd względny:\", blad_wzgledny(math.e, calc_e(5)))\n",
    "print(\"Błąd bezwzględny:\", blad_bezwzgledny(math.e, calc_e(10)), \"\\n\")"
   ]
  },
  {
   "cell_type": "markdown",
   "metadata": {},
   "source": [
    "**Zadanie 4**"
   ]
  },
  {
   "cell_type": "code",
   "execution_count": 28,
   "metadata": {},
   "outputs": [
    {
     "name": "stdout",
     "output_type": "stream",
     "text": [
      "Najmniejsza dodatnia wartość b, dla której poniższy kod wypisze poprawny wynik działania:  2.220446049250313e-16\n",
      "Liczba bitów mantysy domyślnego typu zmiennoprzecinkowego w Pythonie:  52\n"
     ]
    }
   ],
   "source": [
    "#Zadanie 4\n",
    "a = 1.0\n",
    "b = 2.0\n",
    "i = 1\n",
    "while ((a+b-a-b) == 0):\n",
    "    i += 1\n",
    "    b = 2**(-i)\n",
    "    \n",
    "i -= 1\n",
    "b = 2**(-i)\n",
    "\n",
    "print(\"Najmniejsza dodatnia wartość b, dla której poniższy kod wypisze poprawny wynik działania: \",b)\n",
    "print(\"Liczba bitów mantysy domyślnego typu zmiennoprzecinkowego w Pythonie: \",i)"
   ]
  },
  {
   "cell_type": "markdown",
   "metadata": {},
   "source": [
    "Mamy tutaj doczynienia z błędem zaokrąglenia podczas przypisywania zbyt małej liczby dodatniej do domyślnego typu zmiennoprzecinkowego w Pythonie."
   ]
  },
  {
   "cell_type": "markdown",
   "metadata": {},
   "source": [
    "**Zadanie 5**"
   ]
  },
  {
   "cell_type": "code",
   "execution_count": 29,
   "metadata": {},
   "outputs": [
    {
     "name": "stdout",
     "output_type": "stream",
     "text": [
      "3.04936163598207\n",
      "3.0946695241137046\n",
      "3.1226265229337264\n",
      "3.132076531809106\n",
      "3.1415831043264366\n"
     ]
    }
   ],
   "source": [
    "#Zadanie 5\n",
    "import math\n",
    "\n",
    "pi = lambda n : math.sqrt(sum(6/(i**2) for i in range(1,n+1)))\n",
    "\n",
    "print(pi(10))\n",
    "print(pi(20))\n",
    "print(pi(50))\n",
    "print(pi(100))\n",
    "print(pi(100000))"
   ]
  },
  {
   "cell_type": "markdown",
   "metadata": {},
   "source": [
    "Mamy tutaj doczynienia z błędem obcięcia"
   ]
  },
  {
   "cell_type": "code",
   "execution_count": null,
   "metadata": {},
   "outputs": [],
   "source": []
  }
 ],
 "metadata": {
  "kernelspec": {
   "display_name": "Python 3",
   "language": "python",
   "name": "python3"
  },
  "language_info": {
   "codemirror_mode": {
    "name": "ipython",
    "version": 3
   },
   "file_extension": ".py",
   "mimetype": "text/x-python",
   "name": "python",
   "nbconvert_exporter": "python",
   "pygments_lexer": "ipython3",
   "version": "3.6.6"
  }
 },
 "nbformat": 4,
 "nbformat_minor": 2
}
