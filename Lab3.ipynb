{
 "cells": [
  {
   "cell_type": "markdown",
   "metadata": {},
   "source": [
    "**Zadanie 1.**"
   ]
  },
  {
   "cell_type": "code",
   "execution_count": 4,
   "metadata": {},
   "outputs": [
    {
     "data": {
      "image/png": "[encoded data removed]",
      "text/plain": [
       "<matplotlib.figure.Figure at 0x7f6fc5e3fe48>"
      ]
     },
     "metadata": {},
     "output_type": "display_data"
    }
   ],
   "source": [
    "#Zadanie 1.\n",
    "import matplotlib.pyplot as plt\n",
    "import numpy as np\n",
    "\n",
    "f = lambda x : np.exp(-2*x)+x**2-1\n",
    "df = lambda x : -2*np.exp(-2*x)+2*x\n",
    "ddf = lambda x : 4*np.exp(-2*x)+2\n",
    "\n",
    "x = np.linspace(-2,5,1000)\n",
    "\n",
    "plt.figure()\n",
    "plt.grid()\n",
    "plt.ylim(-2,10)\n",
    "plt.plot(x,f(x),label='$f(x)$')\n",
    "plt.plot(x,df(x),label='$f\\'(x)$')\n",
    "plt.plot(x,ddf(x),label='$f\\'\\'(x)$')\n",
    "plt.title('Funkcja f oraz jej pochodne')\n",
    "plt.axhline(0, color='black')\n",
    "plt.axvline(0, color='black')\n",
    "plt.xlabel('x')\n",
    "plt.ylabel('y')\n",
    "plt.legend()\n",
    "plt.show()"
   ]
  },
  {
   "cell_type": "markdown",
   "metadata": {},
   "source": [
    "Oszacowane pierwiastki: x = 0 i x = 0.9\n",
    "\n",
    "**Zadanie 2.**"
   ]
  },
  {
   "cell_type": "code",
   "execution_count": 22,
   "metadata": {},
   "outputs": [
    {
     "name": "stdout",
     "output_type": "stream",
     "text": [
      "Moja implementacja:\n",
      "Pierwszy pierwiastek: -2.0372668983902208e-11 , Liczba iteracji: 34 , Czas wykonania: 0.0005087852478027344\n",
      "Drugi pierwiastek: 0.9165625830792123 , Liczba iteracji: 34 , Czas wykonania: 0.0003108978271484375\n",
      "Implementacja scipy:\n",
      "Pierwszy pierwiastek: 9.09507037584313e-13 , Czas wykonania: 0.00018405914306640625\n",
      "Drugi pierwiastek: 0.9165625831051329 , Czas wykonania: 0.0001304149627685547\n"
     ]
    }
   ],
   "source": [
    "#Zadanie 2.\n",
    "import scipy.optimize as sci\n",
    "import time\n",
    "\n",
    "def bisection(f,left,right,tolerance):\n",
    "    middle = (left+right)/2.0\n",
    "    iter_count = 0\n",
    "    while abs(right-left) > tolerance:\n",
    "        iter_count += 1\n",
    "        if f(middle) == 0:\n",
    "            return middle\n",
    "        elif f(left)*f(middle) < 0:\n",
    "            right = middle\n",
    "        else :\n",
    "            left = middle\n",
    "        middle = (left+right)/2.0\n",
    "    return [middle, iter_count]\n",
    "\n",
    "start = time.time()\n",
    "result = bisection(f,-0.5,0.4,10**(-10))\n",
    "end = time.time()\n",
    "print(\"Moja implementacja:\")\n",
    "print(\"Pierwszy pierwiastek:\",result[0],\", Liczba iteracji:\",result[1],\", Czas wykonania:\", (end - start))\n",
    "start = time.time()\n",
    "result = bisection(f,0.5,2,10**(-10))\n",
    "end = time.time()\n",
    "print(\"Drugi pierwiastek:\",result[0],\", Liczba iteracji:\",result[1],\", Czas wykonania:\", (end - start))\n",
    "\n",
    "print(\"Implementacja scipy:\")\n",
    "start = time.time()\n",
    "result1 = sci.bisect(f,-0.5,0.4)\n",
    "end = time.time()\n",
    "print(\"Pierwszy pierwiastek:\",result1,\", Czas wykonania:\", (end - start))\n",
    "start = time.time()\n",
    "result1 = sci.bisect(f,0.5,2)\n",
    "end = time.time()\n",
    "print(\"Drugi pierwiastek:\",result1,\", Czas wykonania:\", (end - start))"
   ]
  },
  {
   "cell_type": "markdown",
   "metadata": {},
   "source": [
    "**Zadanie 3.**"
   ]
  },
  {
   "cell_type": "code",
   "execution_count": 23,
   "metadata": {},
   "outputs": [
    {
     "name": "stdout",
     "output_type": "stream",
     "text": [
      "Moja implementacja:\n",
      "Pierwszy pierwiastek: -5.125559246038141e-17 , Liczba iteracji: 6 , Czas wykonania: 0.0001373291015625\n",
      "Drugi pierwiastek: 0.916562583105698 , Liczba iteracji: 6 , Czas wykonania: 0.00020694732666015625\n",
      "Implementacja scipy:\n",
      "Pierwszy pierwiastek: -5.125559246038141e-17 , Czas wykonania: 0.00019741058349609375\n",
      "Drugi pierwiastek: 0.916562583105698 , Czas wykonania: 0.00024890899658203125\n"
     ]
    }
   ],
   "source": [
    "#Zadanie 3.\n",
    "\n",
    "def newton_raphson(f,df,start,tolerance):\n",
    "    x = start+tolerance+1\n",
    "    x1 = start\n",
    "    iter_count = 0\n",
    "    while abs(x-x1) > tolerance:\n",
    "        iter_count += 1\n",
    "        x = x1\n",
    "        x1 = (x - (f(x)/df(x)))\n",
    "    return [x1, iter_count]\n",
    "\n",
    "start = time.time()\n",
    "result = newton_raphson(f,df,-0.5,10**(-10))\n",
    "end = time.time()\n",
    "print(\"Moja implementacja:\")\n",
    "print(\"Pierwszy pierwiastek:\",result[0],\", Liczba iteracji:\",result[1],\", Czas wykonania:\", (end - start))\n",
    "start = time.time()\n",
    "result = newton_raphson(f,df,2,10**(-10))\n",
    "end = time.time()\n",
    "print(\"Drugi pierwiastek:\",result[0],\", Liczba iteracji:\",result[1],\", Czas wykonania:\", (end - start))\n",
    "\n",
    "print(\"Implementacja scipy:\")\n",
    "start = time.time()\n",
    "result1 = sci.newton(f,-0.5,df)\n",
    "end = time.time()\n",
    "print(\"Pierwszy pierwiastek:\",result1,\", Czas wykonania:\", (end - start))\n",
    "start = time.time()\n",
    "result1 = sci.newton(f,2,df)\n",
    "end = time.time()\n",
    "print(\"Drugi pierwiastek:\",result1,\", Czas wykonania:\", (end - start))"
   ]
  },
  {
   "cell_type": "markdown",
   "metadata": {},
   "source": [
    "**Zadanie 4.**"
   ]
  },
  {
   "cell_type": "code",
   "execution_count": 25,
   "metadata": {},
   "outputs": [
    {
     "name": "stdout",
     "output_type": "stream",
     "text": [
      "Moja implementacja:\n",
      "Pierwszy pierwiastek: 3.143824901444047e-17 , Liczba iteracji: 8 , Czas wykonania: 0.00031375885009765625\n",
      "Drugi pierwiastek: 0.916562583105698 , Liczba iteracji: 8 , Czas wykonania: 0.0002849102020263672\n",
      "Implementacja scipy:\n",
      "Pierwszy pierwiastek: 4.529353800073197e-17 , Czas wykonania: 0.00015211105346679688\n",
      "Drugi pierwiastek: 0.916562583105698 , Czas wykonania: 0.0001506805419921875\n"
     ]
    }
   ],
   "source": [
    "#Zadanie 4.\n",
    "\n",
    "def secant(f, start1, start2, tolerance):\n",
    "    x = start1\n",
    "    x1 = start2\n",
    "    iter_count = 0\n",
    "    while True:\n",
    "        iter_count += 1\n",
    "        next_x = (x1 - ((f(x1)*(x1 - x))/(f(x1) - f(x))))\n",
    "        x = x1\n",
    "        x1 = next_x\n",
    "        if(abs(x-x1) <= tolerance or f(x1) == 0):\n",
    "            break\n",
    "    return [x1, iter_count]\n",
    "\n",
    "\n",
    "start = time.time()\n",
    "result = secant(f,-0.5,-0.49,10**(-10))\n",
    "end = time.time()\n",
    "print(\"Moja implementacja:\")\n",
    "print(\"Pierwszy pierwiastek:\",result[0],\", Liczba iteracji:\",result[1],\", Czas wykonania:\", (end - start))\n",
    "start = time.time()\n",
    "result = secant(f,2,1.99,10**(-10))\n",
    "end = time.time()\n",
    "print(\"Drugi pierwiastek:\",result[0],\", Liczba iteracji:\",result[1],\", Czas wykonania:\", (end - start))\n",
    "\n",
    "print(\"Implementacja scipy:\")\n",
    "start = time.time()\n",
    "result1 = sci.newton(f,-0.5)\n",
    "end = time.time()\n",
    "print(\"Pierwszy pierwiastek:\",result1,\", Czas wykonania:\", (end - start))\n",
    "start = time.time()\n",
    "result1 = sci.newton(f,2)\n",
    "end = time.time()\n",
    "print(\"Drugi pierwiastek:\",result1,\", Czas wykonania:\", (end - start))"
   ]
  },
  {
   "cell_type": "markdown",
   "metadata": {},
   "source": [
    "**Zadanie 4.5**\n",
    "1. Metoda Bisekcji:\n",
    "    - liczba iteracji: 34\n",
    "    - czas wykonania: ok. 0.0005s\n",
    "2. Metoda Newtona-Raphsona:\n",
    "    - liczba iteracji: 6\n",
    "    - czas wykonania: ok. 0.0002s\n",
    "3. Metoda Siecznych:\n",
    "    - liczba iteracji: 8\n",
    "    - czas wykonania: ok. 0.0003s\n",
    "\n",
    "Metoda Bisekcji potrzebuje wykonać najwięcej iteracji przez co jej wykonanie zajmuje najwięcej czasu, zaś metody Newtona-Raphsona i Siecznych wykonują podobną ilość iteracji przez co mają podobny czas wykonania."
   ]
  },
  {
   "cell_type": "code",
   "execution_count": null,
   "metadata": {},
   "outputs": [],
   "source": []
  }
 ],
 "metadata": {
  "kernelspec": {
   "display_name": "Python 3",
   "language": "python",
   "name": "python3"
  },
  "language_info": {
   "codemirror_mode": {
    "name": "ipython",
    "version": 3
   },
   "file_extension": ".py",
   "mimetype": "text/x-python",
   "name": "python",
   "nbconvert_exporter": "python",
   "pygments_lexer": "ipython3",
   "version": "3.6.6"
  }
 },
 "nbformat": 4,
 "nbformat_minor": 2
}
